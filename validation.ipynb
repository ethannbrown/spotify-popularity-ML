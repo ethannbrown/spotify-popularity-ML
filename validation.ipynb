{
 "cells": [
  {
   "cell_type": "code",
   "execution_count": null,
   "id": "8444dbc5",
   "metadata": {},
   "outputs": [],
   "source": [
    "import spotipy\n",
    "from spotipy.oauth2 import SpotifyClientCredentials\n",
    "\n",
    "auth_manager = SpotifyClientCredentials(client_id=\"YOUR CLIENT ID\", client_secret=\"YOUR CLIENT SECRET\")\n",
    "sp = spotipy.Spotify(auth_manager=auth_manager)"
   ]
  },
  {
   "cell_type": "code",
   "execution_count": null,
   "id": "d4127633",
   "metadata": {},
   "outputs": [],
   "source": [
    "# Loading a *public* Spotify playist using Spotipy\n",
    "playlist = sp.playlist_tracks('PUBLIC PLAYLIST ID')\n",
    "print(len(playlist['items']))\n",
    "playlist['items'][2]['track']['id'] # Path to Spotify IDs (for reference)"
   ]
  },
  {
   "cell_type": "code",
   "execution_count": null,
   "id": "76471de1",
   "metadata": {},
   "outputs": [],
   "source": [
    "# Creating a list of Spotify track IDs from the playlist\n",
    "ids = [items['track']['id'] for items in playlist['items']]\n",
    "print(ids)\n",
    "batch = 40\n",
    "for i in range(0, len(ids), batch):\n",
    "    print(','.join(ids[i:(i+batch)]))"
   ]
  },
  {
   "cell_type": "code",
   "execution_count": null,
   "id": "58d4e484",
   "metadata": {},
   "outputs": [],
   "source": [
    "# \"Get multiple track\" call from reccobeats API\n",
    "import requests\n",
    "import json\n",
    "\n",
    "qualities = {}\n",
    "for i in range(0, len(ids), batch):\n",
    "    id_list = ','.join(ids[i:(i+batch)])\n",
    "    url = f\"https://api.reccobeats.com/v1/track?ids={id_list}\"\n",
    "\n",
    "    payload = {}\n",
    "    headers = {\n",
    "      'Accept': 'application/json'\n",
    "    }\n",
    "\n",
    "    response = requests.request(\"GET\", url, headers=headers, data=payload)\n",
    "    print(json.loads(response.text))\n",
    "\n",
    "    data = json.loads(response.text)\n",
    "\n",
    "    for element in data['content']:\n",
    "        qualities[element['id']] = dict()\n",
    "        # features[element['id']]['popularity'] = element['popularity']\n",
    "        qualities[element['id']]['durationMs'] = element['durationMs']\n",
    "        qualities[element['id']]['href'] = element['href']\n",
    "        qualities[element['id']]['popularity'] = [item['track']['popularity'] for item in playlist['items'] if element['href'] == f\"https://open.spotify.com/track/{item['track']['id']}\"][0]\n",
    "\n",
    "recco_ids = qualities.keys()"
   ]
  },
  {
   "cell_type": "code",
   "execution_count": null,
   "id": "3b694af9",
   "metadata": {},
   "outputs": [],
   "source": [
    "# Loading audio features into a dataframe\n",
    "import pandas as pd\n",
    "\n",
    "data = []\n",
    "for id in recco_ids:\n",
    "    url = f\"https://api.reccobeats.com/v1/track/{id}/audio-features\"\n",
    "    \n",
    "    payload = {}\n",
    "    headers = {\n",
    "        'Accept': 'application/json'\n",
    "    }\n",
    "\n",
    "    response = requests.request(\"GET\", url, headers=headers, data=payload)\n",
    "    \n",
    "    data.append(json.loads(response.text))\n",
    "    \n",
    "for item in data:\n",
    "    if 'id' in item:\n",
    "        qualities[item['id']].update({k: v for k, v in item.items()})\n",
    "\n",
    "df = pd.DataFrame(qualities.values())\n",
    "df.head()"
   ]
  },
  {
   "cell_type": "code",
   "execution_count": null,
   "id": "a098f21d",
   "metadata": {},
   "outputs": [],
   "source": [
    "df.dropna(inplace=True)\n",
    "print(df.head())\n",
    "print(df.info())"
   ]
  },
  {
   "cell_type": "code",
   "execution_count": null,
   "id": "cb416971",
   "metadata": {},
   "outputs": [],
   "source": [
    "# Loading and testing the best model\n",
    "import numpy as np\n",
    "import joblib\n",
    "\n",
    "df['lduration'] = np.log(df['durationMs'])\n",
    "features = ['lduration', 'danceability', 'energy', 'loudness', 'acousticness', 'instrumentalness', 'valence', 'liveness']\n",
    "\n",
    "X_df = df[features]\n",
    "\n",
    "scaler = joblib.load('/Users/ebro/Downloads/spotipy/scaler.pkl')\n",
    "df_scaled = scaler.transform(X_df)\n",
    "\n",
    "rf = joblib.load('/Users/ebro/Downloads/spotipy/rf_model.pkl')\n",
    "y_pred = rf.predict(df_scaled)\n",
    "\n",
    "df['prediction'] = y_pred\n",
    "print(df['prediction'].value_counts())\n",
    "df"
   ]
  },
  {
   "cell_type": "code",
   "execution_count": null,
   "id": "7a808676",
   "metadata": {},
   "outputs": [],
   "source": [
    "# Measuring performance using confusion matrix metrics\n",
    "def performance(df):\n",
    "    TP = ((df['prediction'] == 1) & (df['popularity'] >= 50)).sum()\n",
    "    FP = ((df['prediction'] == 1) & (df['popularity'] < 50)).sum()\n",
    "    TN = ((df['prediction'] == 0) & (df['popularity'] < 50)).sum()\n",
    "    FN = ((df['prediction'] == 0) & (df['popularity'] >= 50)).sum()\n",
    "\n",
    "    accuracy = round(((TP + TN) / (TP + FP + TN + FN)), 3)\n",
    "    precision = TP / (TP + FP)\n",
    "    recall = TP / (TP + FN)\n",
    "    area_under_curve = round((TP / (TP + FN)) * (FP / (FP + TN)), 3)\n",
    "\n",
    "    print(f\"Accuracy: {accuracy}\")\n",
    "    print(f\"Precision: {precision}\")\n",
    "    print(f\"Recall: {recall}\")\n",
    "    print(f\"AUC: {area_under_curve}\")\n",
    "\n",
    "\n",
    "performance(df)"
   ]
  }
 ],
 "metadata": {
  "kernelspec": {
   "display_name": "Python 3",
   "language": "python",
   "name": "python3"
  },
  "language_info": {
   "codemirror_mode": {
    "name": "ipython",
    "version": 3
   },
   "file_extension": ".py",
   "mimetype": "text/x-python",
   "name": "python",
   "nbconvert_exporter": "python",
   "pygments_lexer": "ipython3",
   "version": "3.13.2"
  }
 },
 "nbformat": 4,
 "nbformat_minor": 5
}
